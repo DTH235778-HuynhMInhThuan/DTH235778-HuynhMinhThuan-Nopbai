{
 "cells": [
  {
   "cell_type": "code",
   "execution_count": null,
   "id": "c3a1277a",
   "metadata": {},
   "outputs": [
    {
     "name": "stdout",
     "output_type": "stream",
     "text": [
      "Chương trình kiểm tra năm nhuần\n",
      "Năm  2025  không nhuần\n"
     ]
    }
   ],
   "source": [
    "print(\"Chương trình kiểm tra năm nhuần\")\n",
    "year=int(input(\"Mời Thím nhập vào 1 năm:\"))\n",
    "if (year % 4 ==0 and year % 100 != 0) or year % 400 == 0:\n",
    " print(\"Năm \", year, \" là năm nhuần\")\n",
    "else:\n",
    " print(\"Năm \", year, \" không nhuần\")"
   ]
  },
  {
   "cell_type": "code",
   "execution_count": 2,
   "id": "afe33a06",
   "metadata": {},
   "outputs": [
    {
     "name": "stdout",
     "output_type": "stream",
     "text": [
      "Chương trình đếm số ngày trong tháng\n",
      "Tháng  6  có 30 ngày\n"
     ]
    }
   ],
   "source": [
    "print(\"Chương trình đếm số ngày trong tháng\")\n",
    "month=int(input(\"Nhập vào một tháng: \"))\n",
    "if month in [1, 3, 5, 7, 8, 10, 12]:\n",
    "    print(\"Tháng \", month, \" có 31 ngày\")\n",
    "elif month in [4, 6, 9, 11]:\n",
    "    print(\"Tháng \", month, \" có 30 ngày\")\n",
    "elif month == 2:\n",
    "    year=int(input(\"Nhập vào năm: \"))\n",
    "    if (year % 4 ==0 and year % 100 != 0) or year % 400 == 0:\n",
    "        print(\"Tháng \", month, \" có 29 ngày\")\n",
    "    else:\n",
    "        print(\"Tháng \", month, \" có 28 ngày\")"
   ]
  },
  {
   "cell_type": "code",
   "execution_count": 8,
   "id": "9bef3358",
   "metadata": {},
   "outputs": [
    {
     "ename": "SyntaxError",
     "evalue": "invalid syntax (1729898863.py, line 7)",
     "output_type": "error",
     "traceback": [
      "  \u001b[36mCell\u001b[39m\u001b[36m \u001b[39m\u001b[32mIn[8]\u001b[39m\u001b[32m, line 7\u001b[39m\n\u001b[31m    \u001b[39m\u001b[31mif b==0: and c==0:\u001b[39m\n             ^\n\u001b[31mSyntaxError\u001b[39m\u001b[31m:\u001b[39m invalid syntax\n"
     ]
    }
   ],
   "source": [
    "from math import sqrt\n",
    "print(\"Chương trình giải phương trình bậc 2\")\n",
    "a=float(input(\"Nhập hệ số a: \"))\n",
    "b=float(input(\"Nhập hệ số b: \"))\n",
    "c=float(input(\"Nhập hệ số c: \"))\n",
    "if a==0:\n",
    "    if b==0: and c==0:\n",
    "        print(\"Phương trình vô số nghiệm\")\n",
    "    elif b==0 and c!=0:\n",
    "        print(\"Phương trình vô nghiệm\")\n",
    "    else:\n",
    "        x=-c/b\n",
    "        print(\"Phương trình có nghiệm x= \", x)\n",
    "else:\n",
    "    delta=b**2-4*a*c\n",
    "    if delta<0:\n",
    "        print(\"Phương trình vô nghiệm\")\n",
    "    elif delta==0:\n",
    "        x=-b/(2*a)\n",
    "        print(\"Phương trình có nghiệm kép x1=x2= \", x) \n",
    "    else:\n",
    "        x1=(-b+sqrt(delta))/(2*a)\n",
    "        x2=(-b-sqrt(delta))/(2*a)\n",
    "        print(\"Phương trình có 2 nghiệm phân biệt: \")\n",
    "        print(\"x1= \", x1)\n",
    "        print(\"x2= \", x2)             \n",
    "\n",
    "    "
   ]
  }
 ],
 "metadata": {
  "kernelspec": {
   "display_name": "Python 3",
   "language": "python",
   "name": "python3"
  },
  "language_info": {
   "codemirror_mode": {
    "name": "ipython",
    "version": 3
   },
   "file_extension": ".py",
   "mimetype": "text/x-python",
   "name": "python",
   "nbconvert_exporter": "python",
   "pygments_lexer": "ipython3",
   "version": "3.13.7"
  }
 },
 "nbformat": 4,
 "nbformat_minor": 5
}
