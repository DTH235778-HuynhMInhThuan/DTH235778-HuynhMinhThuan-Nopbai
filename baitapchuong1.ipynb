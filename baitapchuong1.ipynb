{
 "cells": [
  {
   "metadata": {
    "ExecuteTime": {
     "end_time": "2025-08-26T03:08:35.242117Z",
     "start_time": "2025-08-26T03:08:35.235453Z"
    }
   },
   "cell_type": "code",
   "source": [
    "from IPython.core.completerlib import import_re\n",
    "from pycparser.ply.yacc import resultlimit\n",
    "\n",
    "print('hello world')"
   ],
   "id": "7b8047b3a437c31c",
   "outputs": [
    {
     "name": "stdout",
     "output_type": "stream",
     "text": [
      "hello world\n"
     ]
    }
   ],
   "execution_count": 8
  },
  {
   "metadata": {
    "ExecuteTime": {
     "end_time": "2025-08-26T03:09:07.991897Z",
     "start_time": "2025-08-26T03:09:07.983572Z"
    }
   },
   "cell_type": "code",
   "source": "print('mot nguoi khong bao gio mac sai lam khong bao gio thu bat ky dieu gi moi ')",
   "id": "7a23618ceadb0929",
   "outputs": [
    {
     "name": "stdout",
     "output_type": "stream",
     "text": [
      "mot nguoi khong bao gio mac sai lam khong bao gio thu bat ky dieu gi moi \n"
     ]
    }
   ],
   "execution_count": 9
  },
  {
   "metadata": {
    "ExecuteTime": {
     "end_time": "2025-08-26T03:09:47.016437Z",
     "start_time": "2025-08-26T03:09:47.003272Z"
    }
   },
   "cell_type": "code",
   "source": [
    "if 5>2:\n",
    "    print('five is greater than two')"
   ],
   "id": "856a77a8c3dd72ee",
   "outputs": [
    {
     "name": "stdout",
     "output_type": "stream",
     "text": [
      "five is greater than two\n"
     ]
    }
   ],
   "execution_count": 10
  },
  {
   "metadata": {
    "ExecuteTime": {
     "end_time": "2025-08-26T03:10:06.249262Z",
     "start_time": "2025-08-26T03:10:06.239519Z"
    }
   },
   "cell_type": "code",
   "source": [
    "total = 1 + \\\n",
    "        2 + \\\n",
    "        3\n",
    "print(total); print('hello python ')"
   ],
   "id": "6337667e0f8f5737",
   "outputs": [
    {
     "name": "stdout",
     "output_type": "stream",
     "text": [
      "6\n",
      "hello python \n"
     ]
    }
   ],
   "execution_count": 11
  },
  {
   "metadata": {
    "ExecuteTime": {
     "end_time": "2025-08-26T03:11:29.651184Z",
     "start_time": "2025-08-26T03:11:29.645209Z"
    }
   },
   "cell_type": "code",
   "source": [
    "if True:\n",
    "    print('True')\n",
    "else:\n",
    "    print('False')"
   ],
   "id": "47ec49e989495bb",
   "outputs": [
    {
     "name": "stdout",
     "output_type": "stream",
     "text": [
      "True\n"
     ]
    }
   ],
   "execution_count": 12
  },
  {
   "metadata": {
    "ExecuteTime": {
     "end_time": "2025-08-26T03:12:23.316275Z",
     "start_time": "2025-08-26T03:12:23.310725Z"
    }
   },
   "cell_type": "code",
   "source": [
    "#This is a comment\n",
    "print('Hello World!')"
   ],
   "id": "eb429bc14119d5d4",
   "outputs": [
    {
     "name": "stdout",
     "output_type": "stream",
     "text": [
      "Hello World!\n"
     ]
    }
   ],
   "execution_count": 13
  },
  {
   "metadata": {
    "ExecuteTime": {
     "end_time": "2025-08-26T03:15:16.850543Z",
     "start_time": "2025-08-26T03:15:16.837915Z"
    }
   },
   "cell_type": "code",
   "source": [
    "import math\n",
    "import os"
   ],
   "id": "6763ac2c6c270860",
   "outputs": [],
   "execution_count": 14
  },
  {
   "metadata": {
    "ExecuteTime": {
     "end_time": "2025-08-26T03:24:00.087096Z",
     "start_time": "2025-08-26T03:24:00.078966Z"
    }
   },
   "cell_type": "code",
   "source": [
    "def add(a,b):\n",
    "    result = a+b\n",
    "    return result"
   ],
   "id": "82aebdd5c7458a65",
   "outputs": [],
   "execution_count": 18
  },
  {
   "metadata": {
    "ExecuteTime": {
     "end_time": "2025-08-26T03:22:28.496750Z",
     "start_time": "2025-08-26T03:22:28.468543Z"
    }
   },
   "cell_type": "code",
   "source": [
    "# module1.py\n",
    "question = 'What is the meaning of Life, the Universe, and Everything ?'\n",
    "answer = 42\n",
    "\n",
    "# module2.py\n",
    "question = 'what is your quest?'\n",
    "answer = 'To seek the holy grail.'\n",
    "\n",
    "import module1\n",
    "import module2\n",
    "print(module1.question)\n",
    "print(module2.question)\n",
    "print(module1.answer)\n",
    "print(module2.answer)\n"
   ],
   "id": "157cff33f2a8731e",
   "outputs": [
    {
     "ename": "ModuleNotFoundError",
     "evalue": "No module named 'module1'",
     "output_type": "error",
     "traceback": [
      "\u001B[31m---------------------------------------------------------------------------\u001B[39m",
      "\u001B[31mModuleNotFoundError\u001B[39m                       Traceback (most recent call last)",
      "\u001B[36mCell\u001B[39m\u001B[36m \u001B[39m\u001B[32mIn[17]\u001B[39m\u001B[32m, line 9\u001B[39m\n\u001B[32m      6\u001B[39m question = \u001B[33m'\u001B[39m\u001B[33mwhat is your quest?\u001B[39m\u001B[33m'\u001B[39m\n\u001B[32m      7\u001B[39m answer = \u001B[33m'\u001B[39m\u001B[33mTo seek the holy grail.\u001B[39m\u001B[33m'\u001B[39m\n\u001B[32m----> \u001B[39m\u001B[32m9\u001B[39m \u001B[38;5;28;01mimport\u001B[39;00m\u001B[38;5;250m \u001B[39m\u001B[34;01mmodule1\u001B[39;00m\n\u001B[32m     10\u001B[39m \u001B[38;5;28;01mimport\u001B[39;00m\u001B[38;5;250m \u001B[39m\u001B[34;01mmodule2\u001B[39;00m\n\u001B[32m     11\u001B[39m \u001B[38;5;28mprint\u001B[39m(module1.question)\n",
      "\u001B[31mModuleNotFoundError\u001B[39m: No module named 'module1'"
     ]
    }
   ],
   "execution_count": 17
  }
 ],
 "metadata": {
  "kernelspec": {
   "display_name": "Python 3",
   "language": "python",
   "name": "python3"
  },
  "language_info": {
   "codemirror_mode": {
    "name": "ipython",
    "version": 2
   },
   "file_extension": ".py",
   "mimetype": "text/x-python",
   "name": "python",
   "nbconvert_exporter": "python",
   "pygments_lexer": "ipython2",
   "version": "2.7.6"
  }
 },
 "nbformat": 4,
 "nbformat_minor": 5
}
